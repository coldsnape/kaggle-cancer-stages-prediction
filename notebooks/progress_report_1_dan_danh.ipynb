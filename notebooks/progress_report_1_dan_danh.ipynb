{
 "cells": [
  {
   "cell_type": "code",
   "execution_count": 128,
   "metadata": {
    "cell_id": "00000-55d324fd-cc7d-46ee-8333-bf18483dcf6b",
    "deepnote_cell_type": "code",
    "deepnote_to_be_reexecuted": false,
    "execution_millis": 3692,
    "execution_start": 1618698830324,
    "source_hash": "4df285e0",
    "tags": []
   },
   "outputs": [],
   "source": [
    "!pip install -q pandas_profiling"
   ]
  },
  {
   "cell_type": "code",
   "execution_count": 53,
   "metadata": {
    "cell_id": "00000-30c20a28-9092-4e33-aaf2-e00637763be9",
    "deepnote_cell_type": "code",
    "deepnote_to_be_reexecuted": false,
    "execution_millis": 1940,
    "execution_start": 1618693158284,
    "source_hash": "7cef12d",
    "tags": []
   },
   "outputs": [],
   "source": [
    "# Start writing code here...from   category_encoders          import *\n",
    "import numpy as np\n",
    "import pandas as pd\n",
    "from   sklearn.compose            import *\n",
    "from   sklearn.ensemble           import RandomForestClassifier, ExtraTreesClassifier, IsolationForest, GradientBoostingClassifier\n",
    "from   sklearn.experimental       import enable_iterative_imputer\n",
    "from   sklearn.impute             import *\n",
    "from   sklearn.linear_model       import LogisticRegression, PassiveAggressiveClassifier, RidgeClassifier, SGDClassifier\n",
    "from   sklearn.metrics            import accuracy_score, balanced_accuracy_score, roc_auc_score, f1_score # Evaluation metric 2.0 \n",
    "from   sklearn.pipeline           import Pipeline\n",
    "from   sklearn.preprocessing      import *\n",
    "from   sklearn.tree               import DecisionTreeClassifier, ExtraTreeClassifier\n",
    "from   sklearn.model_selection    import train_test_split\n",
    "from   sklearn.model_selection    import RandomizedSearchCV\n",
    "from   sklearn.svm                import LinearSVC\n",
    "from   sklearn.base               import BaseEstimator\n",
    "from   sklearn.decomposition      import PCA\n",
    "from   sklearn.model_selection    import cross_val_score, cross_val_predict\n",
    "from   sklearn.cluster            import KMeans\n",
    "from   sklearn.metrics            import plot_confusion_matrix\n",
    "from   sklearn.ensemble           import StackingClassifier\n",
    "from   sklearn.pipeline           import make_pipeline\n",
    "from   pandas_profiling           import ProfileReport\n",
    "\n"
   ]
  },
  {
   "cell_type": "code",
   "execution_count": 84,
   "metadata": {
    "cell_id": "00001-87d269d2-4165-4595-aee6-a983af16953c",
    "deepnote_cell_type": "code",
    "deepnote_to_be_reexecuted": false,
    "execution_millis": 1080,
    "execution_start": 1618695608104,
    "source_hash": "82a33785",
    "tags": []
   },
   "outputs": [],
   "source": [
    "# Load train data\n",
    "data = pd.read_csv('train_ml2_2021.csv')\n",
    "y = data['target']\n",
    "X = data.drop(['target'], axis=1)"
   ]
  },
  {
   "cell_type": "code",
   "execution_count": 131,
   "metadata": {
    "cell_id": "00003-8b8cda79-c6bf-4fed-8dfd-e618d42c4f05",
    "deepnote_cell_type": "code",
    "deepnote_to_be_reexecuted": false,
    "execution_millis": 226,
    "execution_start": 1618699189998,
    "source_hash": "71db2ef5",
    "tags": []
   },
   "outputs": [],
   "source": [
    "# Load test data\n",
    "test = pd.read_csv('test0.csv')\n",
    "X_test = test.drop(['target', 'obs_id'], axis=1)"
   ]
  },
  {
   "cell_type": "code",
   "execution_count": 151,
   "metadata": {
    "cell_id": "00004-0487c704-dd5d-4e98-a9b5-67d873c09720",
    "deepnote_cell_type": "code",
    "deepnote_to_be_reexecuted": false,
    "execution_millis": 1,
    "execution_start": 1618700186280,
    "source_hash": "a0304c7b",
    "tags": []
   },
   "outputs": [],
   "source": [
    "y_submission = test['obs_id']"
   ]
  },
  {
   "cell_type": "code",
   "execution_count": 86,
   "metadata": {
    "cell_id": "00003-050a038c-3d1c-4d7c-80f8-8ecead07049d",
    "deepnote_cell_type": "code",
    "deepnote_to_be_reexecuted": false,
    "execution_millis": 15,
    "execution_start": 1618695644786,
    "source_hash": "7d703947",
    "tags": []
   },
   "outputs": [
    {
     "data": {
      "text/plain": [
       "((8302, 979), (8302,))"
      ]
     },
     "execution_count": 86,
     "metadata": {},
     "output_type": "execute_result"
    }
   ],
   "source": [
    "X.shape, y.shape"
   ]
  },
  {
   "cell_type": "code",
   "execution_count": 87,
   "metadata": {
    "cell_id": "00004-c3345e08-0a57-46c6-828b-748e8da48e34",
    "deepnote_cell_type": "code",
    "deepnote_to_be_reexecuted": false,
    "execution_millis": 25,
    "execution_start": 1618695646452,
    "source_hash": "5299cebe",
    "tags": []
   },
   "outputs": [
    {
     "data": {
      "text/plain": [
       "(False, False)"
      ]
     },
     "execution_count": 87,
     "metadata": {},
     "output_type": "execute_result"
    }
   ],
   "source": [
    "# no null values\n",
    "X.isnull().values.any(), y.isnull().values.any()"
   ]
  },
  {
   "cell_type": "code",
   "execution_count": 88,
   "metadata": {
    "cell_id": "00002-2b20761a-beb0-4905-ae1f-78837628ab21",
    "deepnote_cell_type": "code",
    "deepnote_to_be_reexecuted": false,
    "execution_millis": 38,
    "execution_start": 1618695647042,
    "source_hash": "483ca89",
    "tags": []
   },
   "outputs": [],
   "source": [
    "X_train, X_val, y_train, y_val = train_test_split(X, y, train_size=0.75)"
   ]
  },
  {
   "cell_type": "code",
   "execution_count": 89,
   "metadata": {
    "cell_id": "00003-037e915a-14ed-447d-81ac-ed5051e872fe",
    "deepnote_cell_type": "code",
    "deepnote_to_be_reexecuted": false,
    "execution_millis": 3,
    "execution_start": 1618695651672,
    "source_hash": "10e27369",
    "tags": []
   },
   "outputs": [],
   "source": [
    "# Selected high potential algorithms with default settings\n",
    "algos = [RandomForestClassifier(),\n",
    "        ExtraTreesClassifier(),\n",
    "        # GradientBoostingClassifier(),\n",
    "        LogisticRegression(),\n",
    "        PassiveAggressiveClassifier(),\n",
    "        RidgeClassifier(),\n",
    "        SGDClassifier(),\n",
    "        DecisionTreeClassifier(),\n",
    "        ExtraTreeClassifier()]"
   ]
  },
  {
   "cell_type": "code",
   "execution_count": 90,
   "metadata": {
    "cell_id": "00004-4daaa2f4-b77d-4cd3-896e-9ac0e825e666",
    "deepnote_cell_type": "code",
    "deepnote_to_be_reexecuted": false,
    "execution_millis": 45583,
    "execution_start": 1618695652475,
    "source_hash": "32b4349e",
    "tags": []
   },
   "outputs": [
    {
     "name": "stdout",
     "output_type": "stream",
     "text": [
      "RandomForestClassifier() : 0.6936416184971098\n",
      "ExtraTreesClassifier() : 0.6897880539499036\n",
      "/shared-libs/python3.7/py/lib/python3.7/site-packages/sklearn/linear_model/_logistic.py:765: ConvergenceWarning: lbfgs failed to converge (status=1):\n",
      "STOP: TOTAL NO. of ITERATIONS REACHED LIMIT.\n",
      "\n",
      "Increase the number of iterations (max_iter) or scale the data as shown in:\n",
      "    https://scikit-learn.org/stable/modules/preprocessing.html\n",
      "Please also refer to the documentation for alternative solver options:\n",
      "    https://scikit-learn.org/stable/modules/linear_model.html#logistic-regression\n",
      "  extra_warning_msg=_LOGISTIC_SOLVER_CONVERGENCE_MSG)\n",
      "LogisticRegression() : 0.5529865125240848\n",
      "PassiveAggressiveClassifier() : 0.5544315992292871\n",
      "RidgeClassifier() : 0.5939306358381503\n",
      "SGDClassifier() : 0.5616570327552987\n",
      "DecisionTreeClassifier() : 0.5958574181117534\n",
      "ExtraTreeClassifier() : 0.5178227360308285\n"
     ]
    }
   ],
   "source": [
    "for algo in algos:\n",
    "    pipe = Pipeline([('imputer', SimpleImputer(strategy='mean')), \n",
    "                     ('scaler', StandardScaler()),\n",
    "                    ('algo', algo)])\n",
    "    pipe.fit(X_train, y_train)\n",
    "    y_pred = pipe.predict(X_val)\n",
    "    accuracy = accuracy_score(y_pred, y_val)\n",
    "    print(f\"{algo} : {accuracy}\")"
   ]
  },
  {
   "cell_type": "code",
   "execution_count": 70,
   "metadata": {
    "cell_id": "00005-10e239b7-5c7e-4e08-af87-9d0f35422d9d",
    "deepnote_cell_type": "code",
    "deepnote_to_be_reexecuted": false,
    "execution_millis": 1,
    "execution_start": 1618693770021,
    "source_hash": "d1627537",
    "tags": []
   },
   "outputs": [],
   "source": [
    "# Create a dummy estimator for random search\n",
    "class DummyEstimator(BaseEstimator):\n",
    "    \"\"\"Pass through class, methods are present but do nothing.\"\"\"\n",
    "    def fit(self): pass\n",
    "    def score(self): pass\n",
    "\n",
    "pipe = Pipeline([('imputer', SimpleImputer(strategy='mean')), \n",
    "                ('scaler', StandardScaler()),\n",
    "                ('classifier', DummyEstimator())])"
   ]
  },
  {
   "cell_type": "code",
   "execution_count": 71,
   "metadata": {
    "cell_id": "00007-d649ffd2-54db-4045-b47c-2f3ab325c67b",
    "deepnote_cell_type": "code",
    "deepnote_to_be_reexecuted": false,
    "execution_millis": 4,
    "execution_start": 1618693770298,
    "source_hash": "595261a0",
    "tags": []
   },
   "outputs": [],
   "source": [
    "search_space = [{'classifier': [RandomForestClassifier()],\n",
    "                'classifier__criterion': ['gini', 'entropy'],\n",
    "                'classifier__n_estimators': [50,100,150,200],\n",
    "                'classifier__max_features': ['auto','sqrt','log2'],\n",
    "                'classifier__max_depth': [20,50,100,200],\n",
    "                'classifier__class_weight' : ['balanced','balanced_subsample']}]"
   ]
  },
  {
   "cell_type": "code",
   "execution_count": 72,
   "metadata": {
    "cell_id": "00008-46ec1f9a-8958-483f-a6a2-1df93725c3db",
    "deepnote_cell_type": "code",
    "deepnote_to_be_reexecuted": false,
    "execution_millis": 664836,
    "execution_start": 1618693771824,
    "source_hash": "ae8a4b81",
    "tags": []
   },
   "outputs": [
    {
     "name": "stdout",
     "output_type": "stream",
     "text": [
      "Fitting 2 folds for each of 50 candidates, totalling 100 fits\n"
     ]
    },
    {
     "data": {
      "text/plain": [
       "RandomForestClassifier(class_weight='balanced', max_depth=100, n_estimators=150)"
      ]
     },
     "execution_count": 72,
     "metadata": {},
     "output_type": "execute_result"
    }
   ],
   "source": [
    "# Apply RandomizedSearch with pip and search space\n",
    "clf_algos_rand = RandomizedSearchCV(estimator=pipe, \n",
    "                                   param_distributions=search_space, \n",
    "                                   n_iter=50,\n",
    "                                   cv=2, \n",
    "                                   n_jobs=-1,\n",
    "                                   verbose=1)\n",
    "\n",
    "best_model = clf_algos_rand.fit(X_train, y_train)\n",
    "\n",
    "best_model.best_estimator_.get_params()['classifier']"
   ]
  },
  {
   "cell_type": "code",
   "execution_count": 91,
   "metadata": {
    "cell_id": "00009-f4da4a10-d0f0-4b66-aa21-47f58d0e3ec4",
    "deepnote_cell_type": "code",
    "deepnote_to_be_reexecuted": false,
    "execution_millis": 0,
    "execution_start": 1618695708681,
    "source_hash": "23a0f9e7",
    "tags": []
   },
   "outputs": [],
   "source": [
    "# best model and it's hyperperamters\n",
    "pipe = Pipeline([('imputer', SimpleImputer(strategy='mean')),\n",
    "                ('scaler', StandardScaler()),\n",
    "                ('clm',  RandomForestClassifier(class_weight='balanced',\n",
    "                                                criterion='entropy',\n",
    "                                                max_depth=100,\n",
    "                                                n_estimators=150,\n",
    "                                                n_jobs=-1))])"
   ]
  },
  {
   "cell_type": "code",
   "execution_count": 92,
   "metadata": {
    "cell_id": "00012-8dac6235-8c78-41b1-9af4-5f0b9ed4a515",
    "deepnote_cell_type": "code",
    "deepnote_to_be_reexecuted": false,
    "execution_millis": 24759,
    "execution_start": 1618695709142,
    "source_hash": "ffb3285f",
    "tags": []
   },
   "outputs": [
    {
     "name": "stdout",
     "output_type": "stream",
     "text": [
      "Accuracy Score: 0.6907514450867052\n"
     ]
    }
   ],
   "source": [
    "# Getting accuracy score for training data from tuned model - worse\n",
    "pipe.fit(X_train, y_train)\n",
    "y_pred = pipe.predict(X_val)\n",
    "accuracy = accuracy_score(y_pred, y_val)\n",
    "print(f\"Accuracy Score: {accuracy}\")"
   ]
  },
  {
   "cell_type": "code",
   "execution_count": 97,
   "metadata": {
    "cell_id": "00010-0f52f68b-1d83-4d39-9682-43b79c18af74",
    "deepnote_cell_type": "code",
    "deepnote_to_be_reexecuted": false,
    "execution_millis": 33669,
    "execution_start": 1618695949447,
    "source_hash": "d69ffc42",
    "tags": []
   },
   "outputs": [],
   "source": [
    "# Fit tuned model to entire training data\n",
    "pipe.fit(X, y)\n",
    "y_pred = pipe.predict(X_test)\n"
   ]
  },
  {
   "cell_type": "code",
   "execution_count": 133,
   "metadata": {
    "cell_id": "00019-66d72053-e3db-4bc4-9a4e-a956044a58e7",
    "deepnote_cell_type": "code",
    "deepnote_to_be_reexecuted": false,
    "execution_millis": 8,
    "execution_start": 1618699197933,
    "source_hash": "40b7029d",
    "tags": []
   },
   "outputs": [
    {
     "data": {
      "application/vnd.deepnote.dataframe.v2+json": {
       "column_count": 2,
       "columns": [
        {
         "dtype": "int64",
         "name": "obs_id",
         "stats": {
          "histogram": [
           {
            "bin_end": 0.4,
            "bin_start": 0,
            "count": 1
           },
           {
            "bin_end": 0.8,
            "bin_start": 0.4,
            "count": 0
           },
           {
            "bin_end": 1.2000000000000002,
            "bin_start": 0.8,
            "count": 1
           },
           {
            "bin_end": 1.6,
            "bin_start": 1.2000000000000002,
            "count": 0
           },
           {
            "bin_end": 2,
            "bin_start": 1.6,
            "count": 0
           },
           {
            "bin_end": 2.4000000000000004,
            "bin_start": 2,
            "count": 1
           },
           {
            "bin_end": 2.8000000000000003,
            "bin_start": 2.4000000000000004,
            "count": 0
           },
           {
            "bin_end": 3.2,
            "bin_start": 2.8000000000000003,
            "count": 1
           },
           {
            "bin_end": 3.6,
            "bin_start": 3.2,
            "count": 0
           },
           {
            "bin_end": 4,
            "bin_start": 3.6,
            "count": 1
           }
          ],
          "max": "4",
          "min": "0",
          "nan_count": 0,
          "unique_count": 5
         }
        },
        {
         "dtype": "int64",
         "name": "target",
         "stats": {
          "histogram": [
           {
            "bin_end": 0.1,
            "bin_start": 0,
            "count": 1
           },
           {
            "bin_end": 0.2,
            "bin_start": 0.1,
            "count": 0
           },
           {
            "bin_end": 0.30000000000000004,
            "bin_start": 0.2,
            "count": 0
           },
           {
            "bin_end": 0.4,
            "bin_start": 0.30000000000000004,
            "count": 0
           },
           {
            "bin_end": 0.5,
            "bin_start": 0.4,
            "count": 0
           },
           {
            "bin_end": 0.6000000000000001,
            "bin_start": 0.5,
            "count": 0
           },
           {
            "bin_end": 0.7000000000000001,
            "bin_start": 0.6000000000000001,
            "count": 0
           },
           {
            "bin_end": 0.8,
            "bin_start": 0.7000000000000001,
            "count": 0
           },
           {
            "bin_end": 0.9,
            "bin_start": 0.8,
            "count": 0
           },
           {
            "bin_end": 1,
            "bin_start": 0.9,
            "count": 4
           }
          ],
          "max": "1",
          "min": "0",
          "nan_count": 0,
          "unique_count": 2
         }
        },
        {
         "dtype": "int64",
         "name": "_deepnote_index_column"
        }
       ],
       "row_count": 5,
       "rows_bottom": null,
       "rows_top": [
        {
         "_deepnote_index_column": 0,
         "obs_id": 0,
         "target": 1
        },
        {
         "_deepnote_index_column": 1,
         "obs_id": 1,
         "target": 1
        },
        {
         "_deepnote_index_column": 2,
         "obs_id": 2,
         "target": 0
        },
        {
         "_deepnote_index_column": 3,
         "obs_id": 3,
         "target": 1
        },
        {
         "_deepnote_index_column": 4,
         "obs_id": 4,
         "target": 1
        }
       ]
      },
      "text/html": [
       "<div>\n",
       "<style scoped>\n",
       "    .dataframe tbody tr th:only-of-type {\n",
       "        vertical-align: middle;\n",
       "    }\n",
       "\n",
       "    .dataframe tbody tr th {\n",
       "        vertical-align: top;\n",
       "    }\n",
       "\n",
       "    .dataframe thead th {\n",
       "        text-align: right;\n",
       "    }\n",
       "</style>\n",
       "<table border=\"1\" class=\"dataframe\">\n",
       "  <thead>\n",
       "    <tr style=\"text-align: right;\">\n",
       "      <th></th>\n",
       "      <th>obs_id</th>\n",
       "      <th>target</th>\n",
       "    </tr>\n",
       "  </thead>\n",
       "  <tbody>\n",
       "    <tr>\n",
       "      <th>0</th>\n",
       "      <td>0</td>\n",
       "      <td>1</td>\n",
       "    </tr>\n",
       "    <tr>\n",
       "      <th>1</th>\n",
       "      <td>1</td>\n",
       "      <td>1</td>\n",
       "    </tr>\n",
       "    <tr>\n",
       "      <th>2</th>\n",
       "      <td>2</td>\n",
       "      <td>0</td>\n",
       "    </tr>\n",
       "    <tr>\n",
       "      <th>3</th>\n",
       "      <td>3</td>\n",
       "      <td>1</td>\n",
       "    </tr>\n",
       "    <tr>\n",
       "      <th>4</th>\n",
       "      <td>4</td>\n",
       "      <td>1</td>\n",
       "    </tr>\n",
       "  </tbody>\n",
       "</table>\n",
       "</div>"
      ],
      "text/plain": [
       "   obs_id  target\n",
       "0       0       1\n",
       "1       1       1\n",
       "2       2       0\n",
       "3       3       1\n",
       "4       4       1"
      ]
     },
     "execution_count": 133,
     "metadata": {},
     "output_type": "execute_result"
    }
   ],
   "source": [
    "y_submission['target'] = pd.Series(y_pred)\n",
    "y_submission.head()"
   ]
  },
  {
   "cell_type": "code",
   "execution_count": 135,
   "metadata": {
    "cell_id": "00017-d23f7e48-05e8-49f0-8e2e-8a5033860359",
    "deepnote_cell_type": "code",
    "deepnote_to_be_reexecuted": false,
    "execution_millis": 17,
    "execution_start": 1618699459787,
    "source_hash": "c748a6b1",
    "tags": []
   },
   "outputs": [
    {
     "data": {
      "application/vnd.deepnote.dataframe.v2+json": {
       "column_count": 1,
       "columns": [
        {
         "dtype": "int64",
         "name": "target",
         "stats": {
          "histogram": [
           {
            "bin_end": 0.1,
            "bin_start": 0,
            "count": 1
           },
           {
            "bin_end": 0.2,
            "bin_start": 0.1,
            "count": 0
           },
           {
            "bin_end": 0.30000000000000004,
            "bin_start": 0.2,
            "count": 0
           },
           {
            "bin_end": 0.4,
            "bin_start": 0.30000000000000004,
            "count": 0
           },
           {
            "bin_end": 0.5,
            "bin_start": 0.4,
            "count": 0
           },
           {
            "bin_end": 0.6000000000000001,
            "bin_start": 0.5,
            "count": 0
           },
           {
            "bin_end": 0.7000000000000001,
            "bin_start": 0.6000000000000001,
            "count": 0
           },
           {
            "bin_end": 0.8,
            "bin_start": 0.7000000000000001,
            "count": 0
           },
           {
            "bin_end": 0.9,
            "bin_start": 0.8,
            "count": 0
           },
           {
            "bin_end": 1,
            "bin_start": 0.9,
            "count": 4
           }
          ],
          "max": "1",
          "min": "0",
          "nan_count": 0,
          "unique_count": 2
         }
        },
        {
         "dtype": "int64",
         "name": "_deepnote_index_column"
        }
       ],
       "row_count": 5,
       "rows_bottom": null,
       "rows_top": [
        {
         "_deepnote_index_column": 0,
         "target": 1
        },
        {
         "_deepnote_index_column": 1,
         "target": 1
        },
        {
         "_deepnote_index_column": 2,
         "target": 0
        },
        {
         "_deepnote_index_column": 3,
         "target": 1
        },
        {
         "_deepnote_index_column": 4,
         "target": 1
        }
       ]
      },
      "text/html": [
       "<div>\n",
       "<style scoped>\n",
       "    .dataframe tbody tr th:only-of-type {\n",
       "        vertical-align: middle;\n",
       "    }\n",
       "\n",
       "    .dataframe tbody tr th {\n",
       "        vertical-align: top;\n",
       "    }\n",
       "\n",
       "    .dataframe thead th {\n",
       "        text-align: right;\n",
       "    }\n",
       "</style>\n",
       "<table border=\"1\" class=\"dataframe\">\n",
       "  <thead>\n",
       "    <tr style=\"text-align: right;\">\n",
       "      <th></th>\n",
       "      <th>target</th>\n",
       "    </tr>\n",
       "    <tr>\n",
       "      <th>obs_id</th>\n",
       "      <th></th>\n",
       "    </tr>\n",
       "  </thead>\n",
       "  <tbody>\n",
       "    <tr>\n",
       "      <th>0</th>\n",
       "      <td>1</td>\n",
       "    </tr>\n",
       "    <tr>\n",
       "      <th>1</th>\n",
       "      <td>1</td>\n",
       "    </tr>\n",
       "    <tr>\n",
       "      <th>2</th>\n",
       "      <td>0</td>\n",
       "    </tr>\n",
       "    <tr>\n",
       "      <th>3</th>\n",
       "      <td>1</td>\n",
       "    </tr>\n",
       "    <tr>\n",
       "      <th>4</th>\n",
       "      <td>1</td>\n",
       "    </tr>\n",
       "  </tbody>\n",
       "</table>\n",
       "</div>"
      ],
      "text/plain": [
       "        target\n",
       "obs_id        \n",
       "0            1\n",
       "1            1\n",
       "2            0\n",
       "3            1\n",
       "4            1"
      ]
     },
     "execution_count": 135,
     "metadata": {},
     "output_type": "execute_result"
    }
   ],
   "source": [
    "y_submission = y_submission.set_index('obs_id')\n",
    "y_submission.head()"
   ]
  },
  {
   "cell_type": "code",
   "execution_count": 136,
   "metadata": {
    "cell_id": "00017-f21abffa-aa52-498a-8107-acf9d0c77856",
    "deepnote_cell_type": "code",
    "deepnote_to_be_reexecuted": false,
    "execution_millis": 9,
    "execution_start": 1618699475067,
    "source_hash": "f4f1b1c0",
    "tags": []
   },
   "outputs": [],
   "source": [
    "y_submission.to_csv('progress_report1_predictions.csv')"
   ]
  },
  {
   "cell_type": "code",
   "execution_count": 138,
   "metadata": {
    "cell_id": "00018-551a2bfe-815e-44fa-9159-aeb8f149524b",
    "deepnote_cell_type": "code",
    "deepnote_to_be_reexecuted": false,
    "execution_millis": 14976,
    "execution_start": 1618699789458,
    "source_hash": "e4573099",
    "tags": []
   },
   "outputs": [
    {
     "name": "stdout",
     "output_type": "stream",
     "text": [
      "Accuracy Score: 0.6835260115606936\n"
     ]
    }
   ],
   "source": [
    "# PCA and Kmeans clusters\n",
    "pipe2 = Pipeline([('pca', PCA(n_components=.99)), # found that 4 components retain 99% variance of y\n",
    "                ('k-mean', KMeans(n_clusters=20)),\n",
    "                ('scaler', StandardScaler()),\n",
    "                ('clm',  ExtraTreesClassifier(class_weight='balanced_subsample',\n",
    "                                                  criterion='entropy',\n",
    "                                                  max_depth=100, \n",
    "                                                  max_features='log2',  \n",
    "                                                  n_estimators=50))])\n",
    "\n",
    "# Getting accuracy score for training data from tuned model - worse\n",
    "pipe2.fit(X_train, y_train)\n",
    "y_pred = pipe2.predict(X_val)\n",
    "accuracy = accuracy_score(y_pred, y_val)\n",
    "print(f\"Accuracy Score: {accuracy}\")"
   ]
  },
  {
   "cell_type": "code",
   "execution_count": 157,
   "metadata": {
    "cell_id": "00020-caf24886-20ce-4065-a491-4d6d6950e8ab",
    "deepnote_cell_type": "code",
    "deepnote_to_be_reexecuted": true,
    "execution_millis": 36010,
    "execution_start": 1618701115708,
    "source_hash": "f5ef0f6a",
    "tags": []
   },
   "outputs": [
    {
     "name": "stdout",
     "output_type": "stream",
     "text": [
      "Accuracy Score: 0.6994219653179191\n",
      "/shared-libs/python3.7/py/lib/python3.7/site-packages/sklearn/linear_model/_logistic.py:765: ConvergenceWarning: lbfgs failed to converge (status=1):\n",
      "STOP: TOTAL NO. of ITERATIONS REACHED LIMIT.\n",
      "\n",
      "Increase the number of iterations (max_iter) or scale the data as shown in:\n",
      "    https://scikit-learn.org/stable/modules/preprocessing.html\n",
      "Please also refer to the documentation for alternative solver options:\n",
      "    https://scikit-learn.org/stable/modules/linear_model.html#logistic-regression\n",
      "  extra_warning_msg=_LOGISTIC_SOLVER_CONVERGENCE_MSG)\n"
     ]
    }
   ],
   "source": [
    "# Stacked models\n",
    "estimators = [('passive_clf', ExtraTreesClassifier(class_weight='balanced_subsample'))]\n",
    "clf_stacked = StackingClassifier(estimators=estimators, final_estimator=LogisticRegression())\n",
    "clf_stacked.fit(X_train, y_train)\n",
    "y_pred = clf_stacked.predict(X_val)\n",
    "accuracy = accuracy_score(y_pred, y_val)\n",
    "print(f\"Accuracy Score: {accuracy}\")"
   ]
  },
  {
   "cell_type": "code",
   "execution_count": 158,
   "metadata": {
    "cell_id": "00021-f4d45ea5-b9f2-45d9-9c13-a6eb88eb09f5",
    "deepnote_cell_type": "code",
    "deepnote_to_be_reexecuted": true,
    "execution_millis": 50586,
    "source_hash": "980b1191",
    "tags": []
   },
   "outputs": [
    {
     "name": "stderr",
     "output_type": "stream",
     "text": [
      "/shared-libs/python3.7/py/lib/python3.7/site-packages/sklearn/linear_model/_logistic.py:765: ConvergenceWarning: lbfgs failed to converge (status=1):\n",
      "STOP: TOTAL NO. of ITERATIONS REACHED LIMIT.\n",
      "\n",
      "Increase the number of iterations (max_iter) or scale the data as shown in:\n",
      "    https://scikit-learn.org/stable/modules/preprocessing.html\n",
      "Please also refer to the documentation for alternative solver options:\n",
      "    https://scikit-learn.org/stable/modules/linear_model.html#logistic-regression\n",
      "  extra_warning_msg=_LOGISTIC_SOLVER_CONVERGENCE_MSG)\n"
     ]
    }
   ],
   "source": [
    "# Fit stacked models to \n",
    "clf_stacked.fit(X, y)\n",
    "y_pred_stacked = clf_stacked.predict(X_test)"
   ]
  },
  {
   "cell_type": "code",
   "execution_count": 159,
   "metadata": {
    "cell_id": "00022-a2bd9611-b2c0-4130-9f96-36ec4623cdd1",
    "deepnote_cell_type": "code",
    "deepnote_to_be_reexecuted": true,
    "execution_millis": 21,
    "source_hash": "b565e16d",
    "tags": []
   },
   "outputs": [
    {
     "data": {
      "text/plain": [
       "(2041,)"
      ]
     },
     "execution_count": 159,
     "metadata": {},
     "output_type": "execute_result"
    }
   ],
   "source": [
    "y_pred_stacked.shape"
   ]
  },
  {
   "cell_type": "code",
   "execution_count": 161,
   "metadata": {
    "cell_id": "00024-c471475e-d8ec-476d-89ff-9c8fb442aa81",
    "deepnote_cell_type": "code",
    "deepnote_to_be_reexecuted": true,
    "execution_millis": 5,
    "source_hash": "f41a40ef",
    "tags": []
   },
   "outputs": [],
   "source": [
    "y_submission['target'] = pd.Series(y_pred_stacked)\n",
    "# y_submission = y_submission.set_index('obs_id')"
   ]
  },
  {
   "cell_type": "code",
   "execution_count": 162,
   "metadata": {
    "cell_id": "00026-3222f5ab-6937-4b62-94ea-4f14589eb41d",
    "deepnote_cell_type": "code",
    "deepnote_to_be_reexecuted": false,
    "execution_millis": 7,
    "execution_start": 1618700828431,
    "source_hash": "dab72b76",
    "tags": []
   },
   "outputs": [],
   "source": [
    "y_submission.to_csv('progress_report1_stacked_pred.csv')"
   ]
  },
  {
   "cell_type": "code",
   "execution_count": null,
   "metadata": {
    "cell_id": "00025-b27d86a6-5e4d-45b7-aa37-0a19c635ef08",
    "deepnote_cell_type": "code",
    "tags": []
   },
   "outputs": [],
   "source": []
  },
  {
   "cell_type": "markdown",
   "metadata": {
    "created_in_deepnote_cell": true,
    "deepnote_cell_type": "markdown",
    "tags": []
   },
   "source": [
    "<a style='text-decoration:none;line-height:16px;display:flex;color:#5B5B62;padding:10px;justify-content:end;' href='https://deepnote.com?utm_source=created-in-deepnote-cell&projectId=7b6df131-18b7-4fcc-a0ae-f6c2332f328e' target=\"_blank\">\n",
    "<img alt='Created in deepnote.com' style='display:inline;max-height:16px;margin:0px;margin-right:7.5px;' src='data:image/svg+xml;base64,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' > </img>\n",
    "Created in <span style='font-weight:600;margin-left:4px;'>Deepnote</span></a>"
   ]
  }
 ],
 "metadata": {
  "deepnote": {
   "is_reactive": false
  },
  "deepnote_execution_queue": [
   {
    "cellId": "00020-caf24886-20ce-4065-a491-4d6d6950e8ab",
    "msgId": "d268b5a8-b0fe-431b-bfeb-06b1504edc01",
    "sessionId": "03384df3-f391-4ce2-907d-8e229bc5ed93"
   },
   {
    "cellId": "00021-f4d45ea5-b9f2-45d9-9c13-a6eb88eb09f5",
    "msgId": "9f2a861e-c781-4dea-99ee-18fbd08ace26",
    "sessionId": "03384df3-f391-4ce2-907d-8e229bc5ed93"
   },
   {
    "cellId": "00022-a2bd9611-b2c0-4130-9f96-36ec4623cdd1",
    "msgId": "24453027-78af-4365-8810-cd93b60adb3a",
    "sessionId": "03384df3-f391-4ce2-907d-8e229bc5ed93"
   },
   {
    "cellId": "00024-c471475e-d8ec-476d-89ff-9c8fb442aa81",
    "msgId": "d63c44c9-c2b1-4e86-adad-e0fbedacc1c4",
    "sessionId": "03384df3-f391-4ce2-907d-8e229bc5ed93"
   }
  ],
  "deepnote_notebook_id": "733de3df-d952-4fc0-b1c0-1bdb30d59ddf",
  "kernelspec": {
   "display_name": "Python 3",
   "language": "python",
   "name": "python3"
  },
  "language_info": {
   "codemirror_mode": {
    "name": "ipython",
    "version": 3
   },
   "file_extension": ".py",
   "mimetype": "text/x-python",
   "name": "python",
   "nbconvert_exporter": "python",
   "pygments_lexer": "ipython3",
   "version": "3.8.2"
  }
 },
 "nbformat": 4,
 "nbformat_minor": 4
}
